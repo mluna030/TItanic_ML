{
 "cells": [
  {
   "cell_type": "markdown",
   "metadata": {},
   "source": [
    "### Titanic Data Analysis Project \n",
    "\n",
    "We will be analyzing the Titanic data set from Kaggle. This data set provides information on the Titanic passengers and can be used to predict whether a passenger survived or not.\n",
    "\n",
    "classifiers used:\n",
    "* Logistic Regression\n",
    "* K Nearest Neighbors\n",
    "* Support Vector Machines\n",
    "* Decision Tree\n",
    "* Random Forest\n",
    "* Naive Bayes\n",
    "* Perceptron\n",
    "* Stochastic Gradient Descent\n",
    "\n",
    "Labels:\n",
    "* Survived: 1 for survived, 0 for not survived\n",
    "\n",
    "passenger data:\n",
    "* Name\n",
    "* Age\n",
    "* Price of ticket\n",
    "\n",
    "This data will try to predict who will survive and who will die\n",
    "\n",
    "\n",
    "We will be using the most efficient algorithm to predict the survival of the passengers."
   ]
  },
  {
   "cell_type": "code",
   "execution_count": 8,
   "metadata": {},
   "outputs": [
    {
     "ename": "FileNotFoundError",
     "evalue": "[WinError 3] The system cannot find the path specified: '../titanic'",
     "output_type": "error",
     "traceback": [
      "\u001b[1;31m---------------------------------------------------------------------------\u001b[0m",
      "\u001b[1;31mFileNotFoundError\u001b[0m                         Traceback (most recent call last)",
      "Cell \u001b[1;32mIn [8], line 9\u001b[0m\n\u001b[0;32m      7\u001b[0m \u001b[39m# inspect the data in the titanic folder in this directory\u001b[39;00m\n\u001b[0;32m      8\u001b[0m \u001b[39mimport\u001b[39;00m \u001b[39mos\u001b[39;00m\n\u001b[1;32m----> 9\u001b[0m \u001b[39mprint\u001b[39m(os\u001b[39m.\u001b[39mlistdir(\u001b[39m\"\u001b[39m\u001b[39m../titanic\u001b[39m\u001b[39m\"\u001b[39m))\n\u001b[0;32m     11\u001b[0m \u001b[39m# read in the data\u001b[39;00m\n\u001b[0;32m     12\u001b[0m train \u001b[39m=\u001b[39m pd\u001b[39m.\u001b[39mread_csv(\u001b[39m'\u001b[39m\u001b[39mtitanic\u001b[39m\u001b[39m\\t\u001b[39;00m\u001b[39mrain.csv\u001b[39m\u001b[39m'\u001b[39m)\n",
      "\u001b[1;31mFileNotFoundError\u001b[0m: [WinError 3] The system cannot find the path specified: '../titanic'"
     ]
    }
   ],
   "source": [
    "import numpy as np # linear algebra \n",
    "import pandas as pd # data processing, CSV file I/O (e.g. pd.read_csv)\n",
    "\n",
    "import matplotlib.pyplot as plt # for plotting\n",
    "import seaborn as sns # for making plots with seaborn\n",
    "\n",
    "# inspect the data in the titanic folder in this directory\n",
    "import os\n",
    "print(os.listdir(\"../titanic\"))\n",
    "\n",
    "# read in the data\n",
    "train = pd.read_csv('titanic\\train.csv')\n",
    "test = pd.read_csv('titanic\\test.csv')\n",
    "\n",
    "\n",
    "\n",
    "\n",
    "\n"
   ]
  },
  {
   "cell_type": "code",
   "execution_count": null,
   "metadata": {},
   "outputs": [],
   "source": []
  }
 ],
 "metadata": {
  "kernelspec": {
   "display_name": "Python 3.10.8 64-bit (microsoft store)",
   "language": "python",
   "name": "python3"
  },
  "language_info": {
   "codemirror_mode": {
    "name": "ipython",
    "version": 3
   },
   "file_extension": ".py",
   "mimetype": "text/x-python",
   "name": "python",
   "nbconvert_exporter": "python",
   "pygments_lexer": "ipython3",
   "version": "3.10.8"
  },
  "orig_nbformat": 4,
  "vscode": {
   "interpreter": {
    "hash": "abb28fd1d7431144c73c9b6e36d3d8b55428cbac4336a7216572d74924205ca7"
   }
  }
 },
 "nbformat": 4,
 "nbformat_minor": 2
}
